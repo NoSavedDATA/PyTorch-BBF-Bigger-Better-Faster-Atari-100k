{
 "cells": [
  {
   "cell_type": "code",
   "execution_count": null,
   "id": "c2d60e38-7eb7-450e-9b0f-2b2aa65dd3cf",
   "metadata": {},
   "outputs": [],
   "source": [
    "import numpy as np\n",
    "\n",
    "random = {'Alien': 227.8, 'Amidar': 5.8, 'Assault': 222.4, 'Asterix': 210, 'BankHeist': 14.2}\n",
    "human = {'Alien': 7127.7, 'Amidar': 1719.5, 'Assault':  742.0, 'Asterix': 8503.3, 'BankHeist': 753.1}\n",
    "\n",
    "\n",
    "last_env = ''\n",
    "scores, iqms, iq_stds, nms= [], [], [], []\n",
    "with open(\"results.csv\", 'r') as f:\n",
    "    i=0\n",
    "    for line in f:\n",
    "        i+=1\n",
    "        if i==1:\n",
    "            continue\n",
    "        \n",
    "        env, mean, iqm, iq_std, _ = line.split(',')\n",
    "        env = env.replace('\"','')\n",
    "            \n",
    "        if last_env!=env and last_env!='':\n",
    "            print(f\"{last_env}:\\n   mean: {np.array(scores).mean()}\\n   std: {np.array(iq_stds).mean()}\\n   Human: {human[last_env]}\\n   Random: {random[last_env]}\\n\")\n",
    "\n",
    "            \n",
    "            \n",
    "            scores, iq_stds = [], []\n",
    "\n",
    "        mean = float(mean)\n",
    "        scores.append(mean)\n",
    "        iq_stds.append(float(iq_std))\n",
    "\n",
    "        #if env not in ['Assault']:\n",
    "        if env not in ['']:\n",
    "            nms.append((mean - random[env]) / (human[env] - random[env]))\n",
    "                \n",
    "            iqm = float(iqm)\n",
    "            iqm = (iqm - random[env]) / (human[env] - random[env])\n",
    "            iqms.append(iqm)\n",
    "        \n",
    "        \n",
    "        last_env = env\n",
    "\n",
    "nms = np.array(nms).mean()\n",
    "iqms = np.array(iqms).mean()\n",
    "\n",
    "nms, iqms"
   ]
  }
 ],
 "metadata": {
  "kernelspec": {
   "display_name": "Python 3 (ipykernel)",
   "language": "python",
   "name": "python3"
  },
  "language_info": {
   "codemirror_mode": {
    "name": "ipython",
    "version": 3
   },
   "file_extension": ".py",
   "mimetype": "text/x-python",
   "name": "python",
   "nbconvert_exporter": "python",
   "pygments_lexer": "ipython3",
   "version": "3.11.5"
  }
 },
 "nbformat": 4,
 "nbformat_minor": 5
}
