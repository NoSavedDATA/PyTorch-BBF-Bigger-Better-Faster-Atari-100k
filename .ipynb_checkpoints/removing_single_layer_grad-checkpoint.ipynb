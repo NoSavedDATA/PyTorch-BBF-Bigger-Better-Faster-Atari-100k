{
 "cells": [
  {
   "cell_type": "code",
   "execution_count": 1,
   "id": "260cbf27-af6b-4ce0-9e8d-0e6092f5b225",
   "metadata": {},
   "outputs": [
    {
     "name": "stderr",
     "output_type": "stream",
     "text": [
      "C:\\Users\\sneep\\anaconda3\\envs\\python_\\Lib\\site-packages\\tqdm\\auto.py:21: TqdmWarning: IProgress not found. Please update jupyter and ipywidgets. See https://ipywidgets.readthedocs.io/en/stable/user_install.html\n",
      "  from .autonotebook import tqdm as notebook_tqdm\n",
      "C:\\Users\\sneep\\anaconda3\\envs\\python_\\Lib\\site-packages\\diffusers\\utils\\outputs.py:63: UserWarning: torch.utils._pytree._register_pytree_node is deprecated. Please use torch.utils._pytree.register_pytree_node instead.\n",
      "  torch.utils._pytree._register_pytree_node(\n"
     ]
    },
    {
     "name": "stdout",
     "output_type": "stream",
     "text": [
      "L1 tensor([[-0.2880],\n",
      "        [ 0.1193],\n",
      "        [-0.2629],\n",
      "        [ 0.2795],\n",
      "        [-0.2826],\n",
      "        [-0.0597],\n",
      "        [-0.0805],\n",
      "        [-0.2896],\n",
      "        [-0.2968],\n",
      "        [ 0.0586]])\n",
      "\n",
      "\n",
      "L2 None\n",
      "\n",
      "\n",
      "L3 tensor([[-1.0954,  2.1588,  1.4293,  3.1157, -0.5450,  1.6749,  0.6414, -3.2148,\n",
      "         -1.3310, -2.2622]])\n",
      "\n",
      "\n"
     ]
    }
   ],
   "source": [
    "import torch\n",
    "from torch import nn\n",
    "import torch.nn.functional as F\n",
    "from nosaveddata import *\n",
    "\n",
    "seed_np_torch(42)\n",
    "\n",
    "class Model(nn.Module):\n",
    "    def __init__(self):\n",
    "        super().__init__()\n",
    "\n",
    "        self.l1 = nn.Linear(1,10)\n",
    "        self.l_aux = nn.Linear(10,10)\n",
    "        \n",
    "        self.l_aux.weight.requires_grad=False\n",
    "        self.l_aux.bias.requires_grad=False\n",
    "        \n",
    "        self.l2 = nn.Linear(10,10)\n",
    "        self.l3 = nn.Linear(10,1)\n",
    "        \n",
    "    def forward(self, X):\n",
    "        X = self.l1(X)\n",
    "        \n",
    "        self.l_aux.load_state_dict(self.l2.state_dict())\n",
    "        X = (self.l2(X) - self.l_aux(X)).detach() + self.l_aux(X)\n",
    "        #X = self.l2(X)\n",
    "            \n",
    "        X = self.l3(X)\n",
    "        return X\n",
    "\n",
    "model = Model()\n",
    "optim = torch.optim.AdamW(model.parameters(), lr=1e-4)\n",
    "\n",
    "X=torch.randn(5,1)\n",
    "\n",
    "y = model(X)\n",
    "\n",
    "loss = y.sum()\n",
    "loss.backward()\n",
    "optim.step()\n",
    "\n",
    "print(f\"L1 {model.l1.weight.grad}\\n\\n\")\n",
    "print(f\"L2 {model.l2.weight.grad}\\n\\n\")\n",
    "print(f\"L3 {model.l3.weight.grad}\\n\\n\")"
   ]
  },
  {
   "cell_type": "code",
   "execution_count": null,
   "id": "61377dee-9b20-4222-89a3-5d49c8250598",
   "metadata": {},
   "outputs": [],
   "source": []
  }
 ],
 "metadata": {
  "kernelspec": {
   "display_name": "Python 3 (ipykernel)",
   "language": "python",
   "name": "python3"
  },
  "language_info": {
   "codemirror_mode": {
    "name": "ipython",
    "version": 3
   },
   "file_extension": ".py",
   "mimetype": "text/x-python",
   "name": "python",
   "nbconvert_exporter": "python",
   "pygments_lexer": "ipython3",
   "version": "3.11.5"
  }
 },
 "nbformat": 4,
 "nbformat_minor": 5
}
